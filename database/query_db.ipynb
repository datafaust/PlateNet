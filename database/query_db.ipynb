{
 "nbformat": 4,
 "nbformat_minor": 2,
 "metadata": {
  "language_info": {
   "name": "python",
   "codemirror_mode": {
    "name": "ipython",
    "version": 3
   },
   "version": "3.7.7-final"
  },
  "orig_nbformat": 2,
  "file_extension": ".py",
  "mimetype": "text/x-python",
  "name": "python",
  "npconvert_exporter": "python",
  "pygments_lexer": "ipython3",
  "version": 3,
  "kernelspec": {
   "name": "python37764bitace9d857a23f49f1a91c96e1c5dbb948",
   "display_name": "Python 3.7.7 64-bit"
  }
 },
 "cells": [
  {
   "cell_type": "code",
   "execution_count": 3,
   "metadata": {},
   "outputs": [],
   "source": [
    "import pandas as pd\n",
    "from sqlalchemy import create_engine\n",
    "#from sqlalchemy_utils import database_exists, create_database\n",
    "import sqlalchemy\n",
    "import gc\n",
    "import sys\n",
    "from datetime import datetime,date\n",
    "import pandas as pd\n",
    "import pymysql\n",
    "\n",
    "#connection and host information\n",
    "host = 'localhost'\n",
    "db='platenet'\n",
    "engine = create_engine('mysql+pymysql://root:password@'+ host+ ':3306/'+ db) #create engine connection\n",
    "version= sys.version_info[0]"
   ]
  },
  {
   "cell_type": "code",
   "execution_count": 4,
   "metadata": {},
   "outputs": [
    {
     "output_type": "stream",
     "name": "stdout",
     "text": "http://nycserv.nyc.gov/NYCServWeb/ShowImage?searchID=VDBSSmVrNXFRWGROUkVVelRsRTlQUT09&locationName=_____________________\n"
    }
   ],
   "source": [
    "dbConnection = engine.connect()\n",
    "df = pd.read_sql(\"select summons_image from platenet.plate_data_prd limit 5\",dbConnection) \n",
    "pd.set_option('display.expand_frame_repr', False)\n",
    "print(df.iloc[0]['summons_image'])\n",
    "dbConnection.close()"
   ]
  },
  {
   "cell_type": "code",
   "execution_count": null,
   "metadata": {},
   "outputs": [],
   "source": []
  }
 ]
}